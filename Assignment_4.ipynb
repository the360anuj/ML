{
  "nbformat": 4,
  "nbformat_minor": 0,
  "metadata": {
    "colab": {
      "name": "Untitled2.ipynb",
      "provenance": []
    },
    "kernelspec": {
      "name": "python3",
      "display_name": "Python 3"
    }
  },
  "cells": [
    {
      "cell_type": "code",
      "metadata": {
        "id": "uDHbr79IffZC",
        "colab": {
          "base_uri": "https://localhost:8080/"
        },
        "outputId": "86e4ff83-8906-4400-ed3a-77e46c292fb4"
      },
      "source": [
        "###Question 1.1\r\n",
        "class dim:\r\n",
        "    def __init__(self,a,b,c):\r\n",
        "        self.a = float(a)\r\n",
        "        self.b = float(b)\r\n",
        "        self.c = float(c)\r\n",
        "a= int(input(\"a=\"))\r\n",
        "b= int(input(\"b=\"))\r\n",
        "c= int(input(\"c=\"))\r\n",
        "\r\n",
        "class triangle(dim):\r\n",
        "    def __init__(self,a,b,c):\r\n",
        "        super().__init__(a,b,c)\r\n",
        "\r\n",
        "    def get_area(self):\r\n",
        "        s = (a + b + c) / 2\r\n",
        "        return (s*(s-a)*(s-b)*(s-c)) ** 0.5        \r\n",
        "\r\n",
        "t = triangle(a,b,c)\r\n",
        "print(\"area : {}\".format(t.get_area()))"
      ],
      "execution_count": 3,
      "outputs": [
        {
          "output_type": "stream",
          "text": [
            "a=3\n",
            "b=4\n",
            "c=5\n",
            "area : 6.0\n"
          ],
          "name": "stdout"
        }
      ]
    },
    {
      "cell_type": "code",
      "metadata": {
        "colab": {
          "base_uri": "https://localhost:8080/"
        },
        "id": "fM9QTUp8f11F",
        "outputId": "79ef2d01-6dfe-4b20-9446-f29c22a4a323"
      },
      "source": [
        "###Quesion 1.2\r\n",
        "def filter_long_words(a,n):\r\n",
        "  list1 = []\r\n",
        "  for i in a:\r\n",
        "    if(len(i)>n):\r\n",
        "      list1.append(i)\r\n",
        "  return list1\r\n",
        "print(filter_long_words(['abcd','trignometry','fsdafa','ae'],5))"
      ],
      "execution_count": 8,
      "outputs": [
        {
          "output_type": "stream",
          "text": [
            "['trignometry', 'fsdafa']\n"
          ],
          "name": "stdout"
        }
      ]
    },
    {
      "cell_type": "code",
      "metadata": {
        "id": "35R_fvcsf5Za",
        "colab": {
          "base_uri": "https://localhost:8080/"
        },
        "outputId": "84ec57aa-a23e-4235-98d2-fbe59a4f8d29"
      },
      "source": [
        "###Question 2.1\r\n",
        "def map_char_to_num(a):\r\n",
        "  list1= []\r\n",
        "  for i in a:\r\n",
        "    list1.append(len(i))\r\n",
        "  return list1\r\n",
        "print(map_char_to_num([\"ab\",\"cde\",\"erty\"]))\r\n"
      ],
      "execution_count": 14,
      "outputs": [
        {
          "output_type": "stream",
          "text": [
            "[2, 3, 4]\n"
          ],
          "name": "stdout"
        }
      ]
    },
    {
      "cell_type": "code",
      "metadata": {
        "colab": {
          "base_uri": "https://localhost:8080/"
        },
        "id": "ep1l28mL-vd9",
        "outputId": "99d384f4-e4c7-4ee5-8cfc-324456cd54e9"
      },
      "source": [
        "###Question 2.2\r\n",
        "def check_alphabet(char):\r\n",
        "  if(char==\"a\" or char==\"e\" or char==\"i\" or char==\"o\" or char==\"u\" or char==\"A\" or char==\"E\" or char==\"I\" or char==\"O\" or char==\"U\"):\r\n",
        "    return True\r\n",
        "  else:\r\n",
        "    return False\r\n",
        "print(check_alphabet(\"e\"))"
      ],
      "execution_count": 12,
      "outputs": [
        {
          "output_type": "stream",
          "text": [
            "True\n"
          ],
          "name": "stdout"
        }
      ]
    },
    {
      "cell_type": "code",
      "metadata": {
        "id": "fXzssPeOF2Ed"
      },
      "source": [
        ""
      ],
      "execution_count": null,
      "outputs": []
    }
  ]
}