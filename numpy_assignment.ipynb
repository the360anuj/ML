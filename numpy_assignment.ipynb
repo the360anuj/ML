{
 "cells": [
  {
   "cell_type": "markdown",
   "id": "direct-stations",
   "metadata": {},
   "source": [
    "# Assignment numpy Question 1"
   ]
  },
  {
   "cell_type": "code",
   "execution_count": 50,
   "id": "public-suicide",
   "metadata": {},
   "outputs": [],
   "source": [
    "import numpy as np"
   ]
  },
  {
   "cell_type": "code",
   "execution_count": 51,
   "id": "million-practitioner",
   "metadata": {},
   "outputs": [],
   "source": [
    "def wanda(arr, n, increasing=False):\n",
    "    list1 = []\n",
    "    if increasing == True:\n",
    "        for i in arr:\n",
    "            for j in range(n):\n",
    "                list1.append(i ** j)\n",
    "        matrix1 =np.matrix(list1).reshape(arr.size,n)\n",
    "        return matrix1\n",
    "    else:\n",
    "        for i in arr:\n",
    "            for j in range(n):\n",
    "                list1.append(i ** (n-j-1))\n",
    "        matrix2 = np.matrix(list1).reshape(arr.size,n)\n",
    "        return matrix2"
   ]
  },
  {
   "cell_type": "code",
   "execution_count": 52,
   "id": "solar-escape",
   "metadata": {},
   "outputs": [
    {
     "data": {
      "text/plain": [
       "matrix([[  1,   1,   1,   1,   1],\n",
       "        [ 16,   8,   4,   2,   1],\n",
       "        [ 81,  27,   9,   3,   1],\n",
       "        [256,  64,  16,   4,   1],\n",
       "        [625, 125,  25,   5,   1]])"
      ]
     },
     "execution_count": 52,
     "metadata": {},
     "output_type": "execute_result"
    }
   ],
   "source": [
    "a = np.array([1,2,3,4,5])\n",
    "n=5\n",
    "b = wanda(a,n)\n",
    "b"
   ]
  },
  {
   "cell_type": "code",
   "execution_count": 53,
   "id": "coral-publicity",
   "metadata": {},
   "outputs": [
    {
     "data": {
      "text/plain": [
       "matrix([[  1,   1,   1,   1,   1],\n",
       "        [  1,   2,   4,   8,  16],\n",
       "        [  1,   3,   9,  27,  81],\n",
       "        [  1,   4,  16,  64, 256],\n",
       "        [  1,   5,  25, 125, 625]])"
      ]
     },
     "execution_count": 53,
     "metadata": {},
     "output_type": "execute_result"
    }
   ],
   "source": [
    "c = np.array([1,2,3,4,5])\n",
    "n=5\n",
    "d = wanda(c,n,True)\n",
    "d"
   ]
  },
  {
   "cell_type": "markdown",
   "id": "voluntary-threat",
   "metadata": {},
   "source": [
    "# Question 2"
   ]
  },
  {
   "cell_type": "code",
   "execution_count": 54,
   "id": "computational-philosophy",
   "metadata": {},
   "outputs": [],
   "source": [
    "def movingAverage(arr, win):\n",
    "    muv_ave = []\n",
    "    for i in range((arr.size)-win+1):\n",
    "        sum1 = 0\n",
    "        for j in range(win):\n",
    "            sum1 += arr[j+i]\n",
    "        muv_ave.append(sum1/win)\n",
    "    z=1\n",
    "    for i in muv_ave:\n",
    "        print(\"y{0} = {1:.2f}\".format(z, i))\n",
    "        z += 1"
   ]
  },
  {
   "cell_type": "code",
   "execution_count": 55,
   "id": "bronze-bunch",
   "metadata": {},
   "outputs": [
    {
     "name": "stdout",
     "output_type": "stream",
     "text": [
      "y1 = 5.00\n",
      "y2 = 4.67\n",
      "y3 = 5.67\n",
      "y4 = 6.67\n",
      "y5 = 9.67\n",
      "y6 = 28.67\n",
      "y7 = 49.33\n",
      "y8 = 72.67\n",
      "y9 = 84.00\n",
      "y10 = 93.33\n",
      "y11 = 116.33\n"
     ]
    }
   ],
   "source": [
    "array1 =np.array([3,5,7,2,8,10,11,65,72,81,99,100,150])\n",
    "window=3\n",
    "movingAverageResult = movingAverage(array1,window)\n"
   ]
  },
  {
   "cell_type": "code",
   "execution_count": null,
   "id": "vocational-contemporary",
   "metadata": {},
   "outputs": [],
   "source": []
  }
 ],
 "metadata": {
  "kernelspec": {
   "display_name": "Python 3",
   "language": "python",
   "name": "python3"
  },
  "language_info": {
   "codemirror_mode": {
    "name": "ipython",
    "version": 3
   },
   "file_extension": ".py",
   "mimetype": "text/x-python",
   "name": "python",
   "nbconvert_exporter": "python",
   "pygments_lexer": "ipython3",
   "version": "3.8.8"
  }
 },
 "nbformat": 4,
 "nbformat_minor": 5
}
