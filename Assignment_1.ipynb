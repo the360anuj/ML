{
  "nbformat": 4,
  "nbformat_minor": 0,
  "metadata": {
    "colab": {
      "name": "Untitled1.ipynb",
      "provenance": [],
      "collapsed_sections": []
    },
    "kernelspec": {
      "name": "python3",
      "display_name": "Python 3"
    }
  },
  "cells": [
    {
      "cell_type": "code",
      "metadata": {
        "colab": {
          "base_uri": "https://localhost:8080/"
        },
        "id": "bBKNHkaBmg2g",
        "outputId": "8f399ffe-8fc9-45eb-a9e2-56fd5875bb9e"
      },
      "source": [
        "#Assignment 1 Question 1\r\n",
        "for i in range(2000,3200):\r\n",
        "  if(i%7 == 0 and i%5 != 0):\r\n",
        "    print(i, end=',')\r\n"
      ],
      "execution_count": 5,
      "outputs": [
        {
          "output_type": "stream",
          "text": [
            "2002,2009,2016,2023,2037,2044,2051,2058,2072,2079,2086,2093,2107,2114,2121,2128,2142,2149,2156,2163,2177,2184,2191,2198,2212,2219,2226,2233,2247,2254,2261,2268,2282,2289,2296,2303,2317,2324,2331,2338,2352,2359,2366,2373,2387,2394,2401,2408,2422,2429,2436,2443,2457,2464,2471,2478,2492,2499,2506,2513,2527,2534,2541,2548,2562,2569,2576,2583,2597,2604,2611,2618,2632,2639,2646,2653,2667,2674,2681,2688,2702,2709,2716,2723,2737,2744,2751,2758,2772,2779,2786,2793,2807,2814,2821,2828,2842,2849,2856,2863,2877,2884,2891,2898,2912,2919,2926,2933,2947,2954,2961,2968,2982,2989,2996,3003,3017,3024,3031,3038,3052,3059,3066,3073,3087,3094,3101,3108,3122,3129,3136,3143,3157,3164,3171,3178,3192,3199,"
          ],
          "name": "stdout"
        }
      ]
    },
    {
      "cell_type": "code",
      "metadata": {
        "colab": {
          "base_uri": "https://localhost:8080/"
        },
        "id": "fn1vr_MKv4se",
        "outputId": "3cf840ef-e9c8-4524-97df-719156adedd5"
      },
      "source": [
        "#Assignment 1 Question 2\r\n",
        "first_Name = str(input(\"Enter the first name: \"))\r\n",
        "second_Name = str(input(\"Enter the second name: \"))\r\n",
        "l1 = []\r\n",
        "l1 = first_Name +\" \"+ second_Name\r\n",
        "l2 = l1[::-1]\r\n",
        "print(l2)"
      ],
      "execution_count": 25,
      "outputs": [
        {
          "output_type": "stream",
          "text": [
            "Enter the first name: anuj\n",
            "Enter the second name: mishra\n",
            "arhsim juna\n"
          ],
          "name": "stdout"
        }
      ]
    },
    {
      "cell_type": "code",
      "metadata": {
        "colab": {
          "base_uri": "https://localhost:8080/"
        },
        "id": "II8QDqURnDv5",
        "outputId": "1481ab80-b41d-4671-b485-4cc38eaf4c34"
      },
      "source": [
        "mf#Assignment 1 Question 3\r\n",
        "import math\r\n",
        "d = float(input(\"Enter the diameter: \"))\r\n",
        "r = float(d/2)\r\n",
        "a = math.pi\r\n",
        "V = float(4/3) * a * math.pow(r,3)\r\n",
        "print(V)\r\n"
      ],
      "execution_count": 20,
      "outputs": [
        {
          "output_type": "stream",
          "text": [
            "Enter the diameter: 12\n",
            "<class 'float'>\n",
            "<class 'float'>\n",
            "904.7786842338603\n"
          ],
          "name": "stdout"
        }
      ]
    },
    {
      "cell_type": "code",
      "metadata": {
        "id": "tiIMgZm0v28k"
      },
      "source": [
        ""
      ],
      "execution_count": null,
      "outputs": []
    },
    {
      "cell_type": "code",
      "metadata": {
        "id": "d1p9U072tSb7"
      },
      "source": [
        ""
      ],
      "execution_count": null,
      "outputs": []
    }
  ]
}