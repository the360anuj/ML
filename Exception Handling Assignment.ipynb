{
  "nbformat": 4,
  "nbformat_minor": 0,
  "metadata": {
    "colab": {
      "name": "Untitled3.ipynb",
      "provenance": []
    },
    "kernelspec": {
      "name": "python3",
      "display_name": "Python 3"
    }
  },
  "cells": [
    {
      "cell_type": "code",
      "metadata": {
        "colab": {
          "base_uri": "https://localhost:8080/"
        },
        "id": "ZN7YhsUt-IrF",
        "outputId": "408e1575-449b-4165-9ecd-86d078394cef"
      },
      "source": [
        "#Assignment Exception handling\r\n",
        "#Question 1\r\n",
        "def divide(numerator,denominator):\r\n",
        "  try:\r\n",
        "    print(numerator / denominator)\r\n",
        "  except ZeroDivisionError:\r\n",
        "    print(\"denominator cannot be zero\")\r\n",
        "\r\n",
        "a = int(input(\"enter numerator: \"))\r\n",
        "b = int(input(\"enter denominator: \"))\r\n",
        "divide(a,b)"
      ],
      "execution_count": 1,
      "outputs": [
        {
          "output_type": "stream",
          "text": [
            "enter numerator: 5\n",
            "enter denominator: 0\n",
            "denominator cannot be zero\n"
          ],
          "name": "stdout"
        }
      ]
    },
    {
      "cell_type": "code",
      "metadata": {
        "colab": {
          "base_uri": "https://localhost:8080/"
        },
        "id": "aW-yvJFTA1xY",
        "outputId": "306126dc-71ad-453d-946f-882d807f31f3"
      },
      "source": [
        "#Question 2\r\n",
        "subject = [\"Americans \", \"Indians \"]\r\n",
        "verb = [\"play \", \"watch \"]\r\n",
        "objects = [\"Baseball\", \"Cricket\"]\r\n",
        "\r\n",
        "for i in subject:\r\n",
        "  for j in verb:\r\n",
        "    for k in objects:\r\n",
        "      print(i+j+k)"
      ],
      "execution_count": 8,
      "outputs": [
        {
          "output_type": "stream",
          "text": [
            "Americans play Baseball\n",
            "Americans play Cricket\n",
            "Americans watch Baseball\n",
            "Americans watch Cricket\n",
            "Indians play Baseball\n",
            "Indians play Cricket\n",
            "Indians watch Baseball\n",
            "Indians watch Cricket\n"
          ],
          "name": "stdout"
        }
      ]
    },
    {
      "cell_type": "code",
      "metadata": {
        "id": "32oaB3jwBza8"
      },
      "source": [
        ""
      ],
      "execution_count": 8,
      "outputs": []
    },
    {
      "cell_type": "code",
      "metadata": {
        "id": "HN7O9aeyCZ-8"
      },
      "source": [
        ""
      ],
      "execution_count": null,
      "outputs": []
    }
  ]
}