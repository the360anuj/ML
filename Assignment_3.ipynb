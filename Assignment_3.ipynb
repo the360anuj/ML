{
  "nbformat": 4,
  "nbformat_minor": 0,
  "metadata": {
    "colab": {
      "name": "Untitled1.ipynb",
      "provenance": [],
      "collapsed_sections": []
    },
    "kernelspec": {
      "name": "python3",
      "display_name": "Python 3"
    }
  },
  "cells": [
    {
      "cell_type": "code",
      "metadata": {
        "colab": {
          "base_uri": "https://localhost:8080/"
        },
        "id": "bBKNHkaBmg2g",
        "outputId": "619840e0-2ed1-4989-99bf-4de1d7a53af2"
      },
      "source": [
        "#Assignment 3 Question 1.1\r\n",
        "def myreduce(function1, anyseq):\r\n",
        "  x = anyseq[0]\r\n",
        "  for i in anyseq[1:]:\r\n",
        "    x = function1(x,i)\r\n",
        "  return x\r\n",
        "def myadd(num1, num2):\r\n",
        "  sum1 = num1 + num2\r\n",
        "  return sum1\r\n",
        "list1 = [1,2,3,4]\r\n",
        "print(myreduce(myadd, list1))\r\n",
        "\r\n",
        "#Assignment 3 Question 1.2\r\n",
        "def myfilter(function2, anyseq2):\r\n",
        "  x = []\r\n",
        "  for i in anyseq2:\r\n",
        "    if function2(i):\r\n",
        "      x.append(i)\r\n",
        "  return x\r\n",
        "def fruits(variable):\r\n",
        "   letters = [\"banana\", \"apple\", \"watermelon\", \"orange\"]\r\n",
        "   if (variable in letters):\r\n",
        "     return True\r\n",
        "   else:\r\n",
        "     return False    \r\n",
        "lst_fruits_veggies = [\"cauliflower\", \"banana\", \"apple\"] \r\n",
        "print(myfilter(fruits, lst_fruits_veggies))"
      ],
      "execution_count": 12,
      "outputs": [
        {
          "output_type": "stream",
          "text": [
            "10\n",
            "['banana', 'apple']\n"
          ],
          "name": "stdout"
        }
      ]
    },
    {
      "cell_type": "code",
      "metadata": {
        "colab": {
          "base_uri": "https://localhost:8080/"
        },
        "id": "fn1vr_MKv4se",
        "outputId": "3f5d64a5-62e4-4475-aadf-90ba97b7227f"
      },
      "source": [
        "#Assignment 3 Question 2\r\n",
        "###1\r\n",
        "lst1 = ['x','y','z']\r\n",
        "new_lst1 = [i*num for i in lst1 for num in range(1,5)]\r\n",
        "print(new_lst1)\r\n",
        "\r\n",
        "###2\r\n",
        "new_lst2 = [i*num for num in range(1,5) for i in lst1]\r\n",
        "print(new_lst2)\r\n",
        "\r\n",
        "###3\r\n",
        "lst3 = [2,3,4]\r\n",
        "new_lst3 = [[i+num] for num in range(0,3) for i in lst3]\r\n",
        "lst_3 = [2,3,4,5]\r\n",
        "new_lst_3 = [[i+num for i in lst_3] for num in range(0,2)]\r\n",
        "final_list = [new_lst3 + new_lst_3]\r\n",
        "print(final_list)\r\n",
        "\r\n",
        "###4\r\n",
        "lst4 = [4,5,6,7]\r\n",
        "new_lst4 = [[i + num for i in lst4] for num in range(0,2) ]\r\n",
        "print(new_lst4)\r\n",
        "\r\n",
        "###5\r\n",
        "lst5=[1,2,3]\r\n",
        "new_lst5 = [(b,a) for a in lst5 for b in lst5]\r\n",
        "print(new_lst5)"
      ],
      "execution_count": null,
      "outputs": [
        {
          "output_type": "stream",
          "text": [
            "['x', 'xx', 'xxx', 'xxxx', 'y', 'yy', 'yyy', 'yyyy', 'z', 'zz', 'zzz', 'zzzz']\n",
            "['x', 'y', 'z', 'xx', 'yy', 'zz', 'xxx', 'yyy', 'zzz', 'xxxx', 'yyyy', 'zzzz']\n",
            "[[[2], [3], [4], [3], [4], [5], [4], [5], [6], [2, 3, 4, 5], [3, 4, 5, 6]]]\n",
            "[[4, 5, 6, 7], [5, 6, 7, 8]]\n",
            "[(1, 1), (2, 1), (3, 1), (1, 2), (2, 2), (3, 2), (1, 3), (2, 3), (3, 3)]\n"
          ],
          "name": "stdout"
        }
      ]
    },
    {
      "cell_type": "code",
      "metadata": {
        "id": "WkuYq9N6tml_"
      },
      "source": [
        "\r\n",
        "\r\n"
      ],
      "execution_count": 12,
      "outputs": []
    },
    {
      "cell_type": "code",
      "metadata": {
        "id": "KfA8cuwkuJ7b"
      },
      "source": [
        ""
      ],
      "execution_count": null,
      "outputs": []
    }
  ]
}