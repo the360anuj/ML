{
  "nbformat": 4,
  "nbformat_minor": 0,
  "metadata": {
    "colab": {
      "name": "Untitled1.ipynb",
      "provenance": [],
      "collapsed_sections": []
    },
    "kernelspec": {
      "name": "python3",
      "display_name": "Python 3"
    }
  },
  "cells": [
    {
      "cell_type": "code",
      "metadata": {
        "colab": {
          "base_uri": "https://localhost:8080/"
        },
        "id": "bBKNHkaBmg2g",
        "outputId": "69c1dba1-8031-42c1-a46c-dcdfd9d8b66d"
      },
      "source": [
        "#Assignment 2 Question 1\r\n",
        "n = int(input())\r\n",
        "for i in range(0,n):\r\n",
        "  for j in range(0,i):\r\n",
        "    print(\"*\", end=\"\")\r\n",
        "  print('\\r')\r\n",
        "for i in range(n,0,-1):\r\n",
        "  for j in range(0,i):\r\n",
        "    print(\"*\", end=\"\")\r\n",
        "  print('\\r')\r\n"
      ],
      "execution_count": 55,
      "outputs": [
        {
          "output_type": "stream",
          "text": [
            "5\n",
            "\n",
            "*\n",
            "**\n",
            "***\n",
            "****\n",
            "*****\n",
            "****\n",
            "***\n",
            "**\n",
            "*\n"
          ],
          "name": "stdout"
        }
      ]
    },
    {
      "cell_type": "code",
      "metadata": {
        "colab": {
          "base_uri": "https://localhost:8080/"
        },
        "id": "fn1vr_MKv4se",
        "outputId": "031453cd-8cc2-4641-a5ce-4c31019ef800"
      },
      "source": [
        "#Assignment 2 Question 2\r\n",
        "x = str(input())\r\n",
        "reverse_name = ''\r\n",
        "length = len(x)-1\r\n",
        "while(length>=0):\r\n",
        "  reverse_name = reverse_name + x[length]\r\n",
        "  length = length - 1\r\n",
        "print(reverse_name)\r\n"
      ],
      "execution_count": 41,
      "outputs": [
        {
          "output_type": "stream",
          "text": [
            "ineuron\n",
            "norueni\n"
          ],
          "name": "stdout"
        }
      ]
    },
    {
      "cell_type": "code",
      "metadata": {
        "colab": {
          "base_uri": "https://localhost:8080/"
        },
        "id": "II8QDqURnDv5",
        "outputId": "308f46d6-e954-4959-f5ad-48d7f6a11fd4"
      },
      "source": [
        "1/5\r\n"
      ],
      "execution_count": 50,
      "outputs": [
        {
          "output_type": "execute_result",
          "data": {
            "text/plain": [
              "0.2"
            ]
          },
          "metadata": {
            "tags": []
          },
          "execution_count": 50
        }
      ]
    },
    {
      "cell_type": "code",
      "metadata": {
        "id": "tiIMgZm0v28k"
      },
      "source": [
        ""
      ],
      "execution_count": null,
      "outputs": []
    },
    {
      "cell_type": "code",
      "metadata": {
        "id": "d1p9U072tSb7"
      },
      "source": [
        ""
      ],
      "execution_count": null,
      "outputs": []
    }
  ]
}
